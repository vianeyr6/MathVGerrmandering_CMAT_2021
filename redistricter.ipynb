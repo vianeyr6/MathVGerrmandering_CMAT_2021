{
 "cells": [
  {
   "cell_type": "code",
   "execution_count": 4,
   "id": "0db8e3dd",
   "metadata": {},
   "outputs": [],
   "source": [
    "seed = 42\n",
    "proj_id = 'cmat-315920'\n",
    "root_path  = '/home/jupyter'\n",
    "\n",
    "%run -i /home/jupyter/Cooks_repo/redistrict_code.py\n",
    "pd.set_option('display.max_columns', None)\n",
    "states = get_states()\n",
    "\n",
    "opts = {'census_yr':2010,\n",
    "        'shapes_yr':2020,\n",
    "        'election_filters' : {\n",
    "            \"race='general' and office='u.s. sen'\",\n",
    "            \"race='general' and office='president'\",\n",
    "            \"race='general' and office like 'u.s. rep%'\"},\n",
    "        'overwrite' : {\n",
    "#             'crosswalks',\n",
    "#             'assignments',\n",
    "#             'elections',\n",
    "#             'census',\n",
    "#             'shapes',\n",
    "#             'edges',\n",
    "#             'nodes',\n",
    "#             'graph',\n",
    "        }}\n",
    "\n",
    "# for st in ['TX', 'RI']:\n",
    "#     for lvl in ['tabblock', 'bg', 'tract']:\n",
    "#         for dist in ['cd', 'sldu', 'sldl']:\n",
    "#             opts.update({'abbr':st, 'level':lvl, 'district':dist})\n",
    "#             self = Gerry(**opts)\n",
    "#             self.MCMC(steps=0)\n",
    "#             print('===================================================================================')"
   ]
  },
  {
   "cell_type": "code",
   "execution_count": 6,
   "id": "4d29436d",
   "metadata": {},
   "outputs": [
    {
     "name": "stdout",
     "output_type": "stream",
     "text": [
      "Creating viz table for step 0\n",
      "Creating viz table for step 1\n",
      "Creating viz table for step 2\n",
      "Creating viz table for step 3\n",
      "Creating viz table for step 4\n",
      "Creating viz table for step 5\n",
      "Creating viz table for step 6\n",
      "Creating viz table for step 7\n",
      "Creating viz table for step 8\n",
      "Creating viz table for step 9\n"
     ]
    },
    {
     "data": {
      "text/html": [
       "<div>\n",
       "<style scoped>\n",
       "    .dataframe tbody tr th:only-of-type {\n",
       "        vertical-align: middle;\n",
       "    }\n",
       "\n",
       "    .dataframe tbody tr th {\n",
       "        vertical-align: top;\n",
       "    }\n",
       "\n",
       "    .dataframe thead th {\n",
       "        text-align: right;\n",
       "    }\n",
       "</style>\n",
       "<table border=\"1\" class=\"dataframe\">\n",
       "  <thead>\n",
       "    <tr style=\"text-align: right;\">\n",
       "      <th></th>\n",
       "      <th>plan_9</th>\n",
       "      <th>geography</th>\n",
       "      <th>f0_</th>\n",
       "    </tr>\n",
       "  </thead>\n",
       "  <tbody>\n",
       "    <tr>\n",
       "      <th>0</th>\n",
       "      <td>13</td>\n",
       "      <td>POLYGON((-101.691063 34.514647, -101.694117 34...</td>\n",
       "      <td>729831.636671</td>\n",
       "    </tr>\n",
       "    <tr>\n",
       "      <th>1</th>\n",
       "      <td>4</td>\n",
       "      <td>POLYGON((-94.717268 33.688242, -94.718338 33.6...</td>\n",
       "      <td>698541.749916</td>\n",
       "    </tr>\n",
       "    <tr>\n",
       "      <th>2</th>\n",
       "      <td>25</td>\n",
       "      <td>POLYGON((-97.84235 30.195341, -97.842301 30.19...</td>\n",
       "      <td>698504.786892</td>\n",
       "    </tr>\n",
       "    <tr>\n",
       "      <th>3</th>\n",
       "      <td>34</td>\n",
       "      <td>POLYGON((-97.892895 28.056816, -97.892991 28.0...</td>\n",
       "      <td>698487.965676</td>\n",
       "    </tr>\n",
       "    <tr>\n",
       "      <th>4</th>\n",
       "      <td>26</td>\n",
       "      <td>POLYGON((-97.359899 32.991563, -97.356054 32.9...</td>\n",
       "      <td>698049.993343</td>\n",
       "    </tr>\n",
       "  </tbody>\n",
       "</table>\n",
       "</div>"
      ],
      "text/plain": [
       "   plan_9                                          geography            f0_\n",
       "0      13  POLYGON((-101.691063 34.514647, -101.694117 34...  729831.636671\n",
       "1       4  POLYGON((-94.717268 33.688242, -94.718338 33.6...  698541.749916\n",
       "2      25  POLYGON((-97.84235 30.195341, -97.842301 30.19...  698504.786892\n",
       "3      34  POLYGON((-97.892895 28.056816, -97.892991 28.0...  698487.965676\n",
       "4      26  POLYGON((-97.359899 32.991563, -97.356054 32.9...  698049.993343"
      ]
     },
     "metadata": {},
     "output_type": "display_data"
    }
   ],
   "source": [
    "opts['overwrite'] = set()\n",
    "rng = np.random.default_rng(40)\n",
    "opts.update({'abbr':'TX', 'level':'tabblock', 'district':'cd'})\n",
    "self = Gerry(**opts)\n",
    "#self.MCMC(steps=10)\n",
    "self.steps = 10\n",
    "\n",
    "self.write_viz_tables()"
   ]
  },
  {
   "cell_type": "code",
   "execution_count": null,
   "id": "2de9f640",
   "metadata": {},
   "outputs": [],
   "source": [
    "https://bigquerygeoviz.appspot.com?shareid=ClOIwiF0posPAcwg8VL4\n",
    "    https://bigquerygeoviz.appspot.com?shareid=SehcUbUfDy6S9Gg7XlRJ plan_0\n",
    "        https://bigquerygeoviz.appspot.com?shareid=o6hn6bkCAcirXH2AJBsq plan_0\n",
    "        https://bigquerygeoviz.appspot.com?shareid=F9impXh8ur5WDDrG34BZ plan_3"
   ]
  }
 ],
 "metadata": {
  "kernelspec": {
   "display_name": "Python 3",
   "language": "python",
   "name": "python3"
  },
  "language_info": {
   "codemirror_mode": {
    "name": "ipython",
    "version": 3
   },
   "file_extension": ".py",
   "mimetype": "text/x-python",
   "name": "python",
   "nbconvert_exporter": "python",
   "pygments_lexer": "ipython3",
   "version": "3.7.10"
  }
 },
 "nbformat": 4,
 "nbformat_minor": 5
}
